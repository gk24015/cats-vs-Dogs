{
  "nbformat": 4,
  "nbformat_minor": 0,
  "metadata": {
    "colab": {
      "name": "Untitled2.ipynb",
      "provenance": [],
      "collapsed_sections": []
    },
    "kernelspec": {
      "name": "python3",
      "display_name": "Python 3"
    }
  },
  "cells": [
    {
      "cell_type": "code",
      "metadata": {
        "id": "y8Z1xTED9bSq",
        "colab_type": "code",
        "colab": {}
      },
      "source": [
        "import tensorflow as tf\n",
        "from keras.preprocessing.image import ImageDataGenerator"
      ],
      "execution_count": 14,
      "outputs": []
    },
    {
      "cell_type": "markdown",
      "metadata": {
        "id": "IFrHNXlO9pXx",
        "colab_type": "text"
      },
      "source": [
        "Preprocessing the data"
      ]
    },
    {
      "cell_type": "code",
      "metadata": {
        "id": "MoBjirvc9pA2",
        "colab_type": "code",
        "colab": {
          "base_uri": "https://localhost:8080/",
          "height": 34
        },
        "outputId": "180cbc2c-75f9-4b54-9309-c118d787e921"
      },
      "source": [
        "train_datagen = ImageDataGenerator(rescale = 1./255,\n",
        "                                   shear_range = 0.2,\n",
        "                                   zoom_range = 0.2,\n",
        "                                   horizontal_flip = True)\n",
        "training_set = train_datagen.flow_from_directory('/content/drive/My Drive/dataset/training_set',\n",
        "                                                 target_size = (64, 64),\n",
        "                                                 batch_size = 32,\n",
        "                                                 class_mode = 'binary')"
      ],
      "execution_count": 15,
      "outputs": [
        {
          "output_type": "stream",
          "text": [
            "Found 8010 images belonging to 2 classes.\n"
          ],
          "name": "stdout"
        }
      ]
    },
    {
      "cell_type": "markdown",
      "metadata": {
        "id": "NXr7jhQY-WS1",
        "colab_type": "text"
      },
      "source": [
        "Preproccesing the dataset"
      ]
    },
    {
      "cell_type": "code",
      "metadata": {
        "id": "4QyO-yY3-V-e",
        "colab_type": "code",
        "colab": {
          "base_uri": "https://localhost:8080/",
          "height": 34
        },
        "outputId": "fe2f7ffd-8b11-40d2-fa56-2cf98155f066"
      },
      "source": [
        "test_datagen = ImageDataGenerator(rescale = 1./255)\n",
        "test_set = test_datagen.flow_from_directory('/content/drive/My Drive/dataset/test_set',\n",
        "                                            target_size = (64, 64),\n",
        "                                            batch_size = 32,\n",
        "                                            class_mode = 'binary')"
      ],
      "execution_count": 16,
      "outputs": [
        {
          "output_type": "stream",
          "text": [
            "Found 2000 images belonging to 2 classes.\n"
          ],
          "name": "stdout"
        }
      ]
    },
    {
      "cell_type": "markdown",
      "metadata": {
        "id": "iqh6vxFj-o6e",
        "colab_type": "text"
      },
      "source": [
        "BUILDING THE CNN"
      ]
    },
    {
      "cell_type": "markdown",
      "metadata": {
        "id": "U5vly6tH-5on",
        "colab_type": "text"
      },
      "source": [
        "initialising cnn"
      ]
    },
    {
      "cell_type": "code",
      "metadata": {
        "id": "xTOfoUZt-sG8",
        "colab_type": "code",
        "colab": {}
      },
      "source": [
        "cnn = tf.keras.models.Sequential()"
      ],
      "execution_count": 18,
      "outputs": []
    },
    {
      "cell_type": "markdown",
      "metadata": {
        "id": "Ir64FyN8-8Ct",
        "colab_type": "text"
      },
      "source": [
        "Convulution"
      ]
    },
    {
      "cell_type": "code",
      "metadata": {
        "id": "AZhqMiQF-0Zn",
        "colab_type": "code",
        "colab": {}
      },
      "source": [
        "cnn.add(tf.keras.layers.Conv2D(filters=32, kernel_size=3, activation='relu', input_shape=[64, 64, 3]))"
      ],
      "execution_count": 19,
      "outputs": []
    },
    {
      "cell_type": "markdown",
      "metadata": {
        "id": "Jx2xtZwT_KS4",
        "colab_type": "text"
      },
      "source": [
        "Pooling"
      ]
    },
    {
      "cell_type": "code",
      "metadata": {
        "id": "Z7eg5SzK_E5n",
        "colab_type": "code",
        "colab": {}
      },
      "source": [
        "cnn.add(tf.keras.layers.MaxPool2D(pool_size=2, strides=2))"
      ],
      "execution_count": 20,
      "outputs": []
    },
    {
      "cell_type": "markdown",
      "metadata": {
        "id": "qjB3Rlm3_N0q",
        "colab_type": "text"
      },
      "source": [
        "Adding a second convolutional layer"
      ]
    },
    {
      "cell_type": "code",
      "metadata": {
        "id": "ppcdGi1L_NfS",
        "colab_type": "code",
        "colab": {}
      },
      "source": [
        "cnn.add(tf.keras.layers.Conv2D(filters=32, kernel_size=3, activation='relu'))\n",
        "cnn.add(tf.keras.layers.MaxPool2D(pool_size=2, strides=2))"
      ],
      "execution_count": 21,
      "outputs": []
    },
    {
      "cell_type": "markdown",
      "metadata": {
        "id": "E-BO-HBn_bZo",
        "colab_type": "text"
      },
      "source": [
        "flattening"
      ]
    },
    {
      "cell_type": "code",
      "metadata": {
        "id": "C4mrPoxk_Yl_",
        "colab_type": "code",
        "colab": {}
      },
      "source": [
        "cnn.add(tf.keras.layers.Flatten())"
      ],
      "execution_count": 22,
      "outputs": []
    },
    {
      "cell_type": "markdown",
      "metadata": {
        "id": "g5JN1YrO_eHC",
        "colab_type": "text"
      },
      "source": [
        " Full Connection"
      ]
    },
    {
      "cell_type": "code",
      "metadata": {
        "id": "AGdJgVE6_c2V",
        "colab_type": "code",
        "colab": {}
      },
      "source": [
        "cnn.add(tf.keras.layers.Dense(units=128, activation='relu'))"
      ],
      "execution_count": 23,
      "outputs": []
    },
    {
      "cell_type": "markdown",
      "metadata": {
        "id": "ey75WPlV_uHP",
        "colab_type": "text"
      },
      "source": [
        "making the output layer"
      ]
    },
    {
      "cell_type": "code",
      "metadata": {
        "id": "Ko4MKQXb_qIp",
        "colab_type": "code",
        "colab": {}
      },
      "source": [
        "cnn.add(tf.keras.layers.Dense(units=1, activation='sigmoid'))"
      ],
      "execution_count": 24,
      "outputs": []
    },
    {
      "cell_type": "markdown",
      "metadata": {
        "id": "OFvwum8zABaV",
        "colab_type": "text"
      },
      "source": [
        "Compiling CNN"
      ]
    },
    {
      "cell_type": "code",
      "metadata": {
        "id": "2Ey3BSf8ADDX",
        "colab_type": "code",
        "colab": {}
      },
      "source": [
        "cnn.compile(optimizer = 'adam', loss = 'binary_crossentropy', metrics = ['accuracy'])"
      ],
      "execution_count": 25,
      "outputs": []
    },
    {
      "cell_type": "markdown",
      "metadata": {
        "id": "egE4aNmh_1di",
        "colab_type": "text"
      },
      "source": [
        "TRAINING THE CNN"
      ]
    },
    {
      "cell_type": "code",
      "metadata": {
        "id": "kOa-4S4e_071",
        "colab_type": "code",
        "colab": {
          "base_uri": "https://localhost:8080/",
          "height": 874
        },
        "outputId": "3be5619d-6341-4c04-ace9-05392aac9b7e"
      },
      "source": [
        "cnn.fit(x = training_set, validation_data = test_set, epochs = 25)"
      ],
      "execution_count": 26,
      "outputs": [
        {
          "output_type": "stream",
          "text": [
            "Epoch 1/25\n",
            "251/251 [==============================] - 4244s 17s/step - loss: 0.6647 - accuracy: 0.5906 - val_loss: 0.6104 - val_accuracy: 0.6705\n",
            "Epoch 2/25\n",
            "251/251 [==============================] - 86s 344ms/step - loss: 0.5908 - accuracy: 0.6838 - val_loss: 0.5762 - val_accuracy: 0.6980\n",
            "Epoch 3/25\n",
            "251/251 [==============================] - 85s 340ms/step - loss: 0.5456 - accuracy: 0.7236 - val_loss: 0.5818 - val_accuracy: 0.6930\n",
            "Epoch 4/25\n",
            "251/251 [==============================] - 86s 341ms/step - loss: 0.5239 - accuracy: 0.7360 - val_loss: 0.5070 - val_accuracy: 0.7515\n",
            "Epoch 5/25\n",
            "251/251 [==============================] - 87s 345ms/step - loss: 0.4958 - accuracy: 0.7578 - val_loss: 0.5362 - val_accuracy: 0.7320\n",
            "Epoch 6/25\n",
            "251/251 [==============================] - 87s 346ms/step - loss: 0.4836 - accuracy: 0.7673 - val_loss: 0.4731 - val_accuracy: 0.7785\n",
            "Epoch 7/25\n",
            "251/251 [==============================] - 87s 346ms/step - loss: 0.4696 - accuracy: 0.7719 - val_loss: 0.4647 - val_accuracy: 0.7860\n",
            "Epoch 8/25\n",
            "251/251 [==============================] - 87s 347ms/step - loss: 0.4560 - accuracy: 0.7775 - val_loss: 0.4591 - val_accuracy: 0.7885\n",
            "Epoch 9/25\n",
            "251/251 [==============================] - 86s 345ms/step - loss: 0.4361 - accuracy: 0.7931 - val_loss: 0.4323 - val_accuracy: 0.8025\n",
            "Epoch 10/25\n",
            "251/251 [==============================] - 86s 341ms/step - loss: 0.4259 - accuracy: 0.8017 - val_loss: 0.4497 - val_accuracy: 0.7875\n",
            "Epoch 11/25\n",
            "251/251 [==============================] - 87s 345ms/step - loss: 0.4124 - accuracy: 0.8081 - val_loss: 0.4433 - val_accuracy: 0.8015\n",
            "Epoch 12/25\n",
            "251/251 [==============================] - 84s 336ms/step - loss: 0.3901 - accuracy: 0.8247 - val_loss: 0.4545 - val_accuracy: 0.7915\n",
            "Epoch 13/25\n",
            "251/251 [==============================] - 82s 328ms/step - loss: 0.3875 - accuracy: 0.8240 - val_loss: 0.4439 - val_accuracy: 0.8045\n",
            "Epoch 14/25\n",
            "251/251 [==============================] - 82s 327ms/step - loss: 0.3762 - accuracy: 0.8311 - val_loss: 0.5069 - val_accuracy: 0.7710\n",
            "Epoch 15/25\n",
            "251/251 [==============================] - 82s 329ms/step - loss: 0.3614 - accuracy: 0.8398 - val_loss: 0.4469 - val_accuracy: 0.7955\n",
            "Epoch 16/25\n",
            "251/251 [==============================] - 83s 329ms/step - loss: 0.3535 - accuracy: 0.8432 - val_loss: 0.4355 - val_accuracy: 0.8070\n",
            "Epoch 17/25\n",
            "251/251 [==============================] - 83s 329ms/step - loss: 0.3353 - accuracy: 0.8496 - val_loss: 0.4476 - val_accuracy: 0.8115\n",
            "Epoch 18/25\n",
            "251/251 [==============================] - 82s 328ms/step - loss: 0.3272 - accuracy: 0.8553 - val_loss: 0.4715 - val_accuracy: 0.7925\n",
            "Epoch 19/25\n",
            "251/251 [==============================] - 83s 329ms/step - loss: 0.3081 - accuracy: 0.8670 - val_loss: 0.4731 - val_accuracy: 0.8030\n",
            "Epoch 20/25\n",
            "251/251 [==============================] - 83s 331ms/step - loss: 0.3033 - accuracy: 0.8675 - val_loss: 0.4912 - val_accuracy: 0.7870\n",
            "Epoch 21/25\n",
            "251/251 [==============================] - 82s 328ms/step - loss: 0.2920 - accuracy: 0.8719 - val_loss: 0.4624 - val_accuracy: 0.8155\n",
            "Epoch 22/25\n",
            "251/251 [==============================] - 82s 327ms/step - loss: 0.2807 - accuracy: 0.8813 - val_loss: 0.5295 - val_accuracy: 0.8000\n",
            "Epoch 23/25\n",
            "251/251 [==============================] - 84s 333ms/step - loss: 0.2696 - accuracy: 0.8888 - val_loss: 0.4982 - val_accuracy: 0.8005\n",
            "Epoch 24/25\n",
            "251/251 [==============================] - 81s 324ms/step - loss: 0.2609 - accuracy: 0.8883 - val_loss: 0.5274 - val_accuracy: 0.7795\n",
            "Epoch 25/25\n",
            "251/251 [==============================] - 82s 326ms/step - loss: 0.2410 - accuracy: 0.8993 - val_loss: 0.5074 - val_accuracy: 0.7975\n"
          ],
          "name": "stdout"
        },
        {
          "output_type": "execute_result",
          "data": {
            "text/plain": [
              "<tensorflow.python.keras.callbacks.History at 0x7fb11877fbe0>"
            ]
          },
          "metadata": {
            "tags": []
          },
          "execution_count": 26
        }
      ]
    },
    {
      "cell_type": "markdown",
      "metadata": {
        "id": "fG-pHN3pAZz3",
        "colab_type": "text"
      },
      "source": [
        "Making prediction on input image"
      ]
    },
    {
      "cell_type": "code",
      "metadata": {
        "id": "gM5v5Xx6ATet",
        "colab_type": "code",
        "colab": {}
      },
      "source": [
        "import numpy as np\n",
        "from keras.preprocessing import image\n",
        "test_image = image.load_img('/content/drive/My Drive/dataset/single_prediction/cat_or_dog_1.jpg', target_size = (64, 64))\n",
        "test_image = image.img_to_array(test_image)\n",
        "test_image = np.expand_dims(test_image, axis = 0)\n",
        "result = cnn.predict(test_image)\n",
        "training_set.class_indices\n",
        "if result[0][0] == 1:\n",
        "  prediction = 'dog'\n",
        "else:\n",
        "  prediction = 'cat'\n"
      ],
      "execution_count": 37,
      "outputs": []
    },
    {
      "cell_type": "code",
      "metadata": {
        "id": "5SitKr4RafoI",
        "colab_type": "code",
        "colab": {
          "base_uri": "https://localhost:8080/",
          "height": 34
        },
        "outputId": "2245534a-a53f-4b2e-eb14-a444f2323c3e"
      },
      "source": [
        "  print(prediction)"
      ],
      "execution_count": 36,
      "outputs": [
        {
          "output_type": "stream",
          "text": [
            "dog\n"
          ],
          "name": "stdout"
        }
      ]
    }
  ]
}