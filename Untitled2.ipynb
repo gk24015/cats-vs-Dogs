{
  "nbformat": 4,
  "nbformat_minor": 0,
  "metadata": {
    "colab": {
      "name": "Untitled2.ipynb",
      "provenance": [],
      "collapsed_sections": []
    },
    "kernelspec": {
      "name": "python3",
      "display_name": "Python 3"
    }
  },
  "cells": [
    {
      "cell_type": "code",
      "metadata": {
        "id": "y8Z1xTED9bSq",
        "colab_type": "code",
        "colab": {}
      },
      "source": [
        "import tensorflow as tf\n",
        "from keras.preprocessing.image import ImageDataGenerator"
      ],
      "execution_count": 14,
      "outputs": []
    },
    {
      "cell_type": "markdown",
      "metadata": {
        "id": "IFrHNXlO9pXx",
        "colab_type": "text"
      },
      "source": [
        "Preprocessing the data"
      ]
    },
    {
      "cell_type": "code",
      "metadata": {
        "id": "MoBjirvc9pA2",
        "colab_type": "code",
        "colab": {
          "base_uri": "https://localhost:8080/",
          "height": 34
        },
        "outputId": "180cbc2c-75f9-4b54-9309-c118d787e921"
      },
      "source": [
        "train_datagen = ImageDataGenerator(rescale = 1./255,\n",
        "                                   shear_range = 0.2,\n",
        "                                   zoom_range = 0.2,\n",
        "                                   horizontal_flip = True)\n",
        "training_set = train_datagen.flow_from_directory('/content/drive/My Drive/dataset/training_set',\n",
        "                                                 target_size = (64, 64),\n",
        "                                                 batch_size = 32,\n",
        "                                                 class_mode = 'binary')"
      ],
      "execution_count": 15,
      "outputs": [
        {
          "output_type": "stream",
          "text": [
            "Found 8010 images belonging to 2 classes.\n"
          ],
          "name": "stdout"
        }
      ]
    },
    {
      "cell_type": "markdown",
      "metadata": {
        "id": "NXr7jhQY-WS1",
        "colab_type": "text"
      },
      "source": [
        "Preproccesing the dataset"
      ]
    },
    {
      "cell_type": "code",
      "metadata": {
        "id": "4QyO-yY3-V-e",
        "colab_type": "code",
        "colab": {
          "base_uri": "https://localhost:8080/",
          "height": 34
        },
        "outputId": "fe2f7ffd-8b11-40d2-fa56-2cf98155f066"
      },
      "source": [
        "test_datagen = ImageDataGenerator(rescale = 1./255)\n",
        "test_set = test_datagen.flow_from_directory('/content/drive/My Drive/dataset/test_set',\n",
        "                                            target_size = (64, 64),\n",
        "                                            batch_size = 32,\n",
        "                                            class_mode = 'binary')"
      ],
      "execution_count": 16,
      "outputs": [
        {
          "output_type": "stream",
          "text": [
            "Found 2000 images belonging to 2 classes.\n"
          ],
          "name": "stdout"
        }
      ]
    },
    {
      "cell_type": "markdown",
      "metadata": {
        "id": "iqh6vxFj-o6e",
        "colab_type": "text"
      },
      "source": [
        "BUILDING THE CNN"
      ]
    },
    {
      "cell_type": "markdown",
      "metadata": {
        "id": "U5vly6tH-5on",
        "colab_type": "text"
      },
      "source": [
        "initialising cnn"
      ]
    },
    {
      "cell_type": "code",
      "metadata": {
        "id": "xTOfoUZt-sG8",
        "colab_type": "code",
        "colab": {}
      },
      "source": [
        "cnn = tf.keras.models.Sequential()"
      ],
      "execution_count": 18,
      "outputs": []
    },
    {
      "cell_type": "markdown",
      "metadata": {
        "id": "Ir64FyN8-8Ct",
        "colab_type": "text"
      },
      "source": [
        "Convulution"
      ]
    },
    {
      "cell_type": "code",
      "metadata": {
        "id": "AZhqMiQF-0Zn",
        "colab_type": "code",
        "colab": {}
      },
      "source": [
        "cnn.add(tf.keras.layers.Conv2D(filters=32, kernel_size=3, activation='relu', input_shape=[64, 64, 3]))"
      ],
      "execution_count": 19,
      "outputs": []
    },
    {
      "cell_type": "markdown",
      "metadata": {
        "id": "Jx2xtZwT_KS4",
        "colab_type": "text"
      },
      "source": [
        "Pooling"
      ]
    },
    {
      "cell_type": "code",
      "metadata": {
        "id": "Z7eg5SzK_E5n",
        "colab_type": "code",
        "colab": {}
      },
      "source": [
        "cnn.add(tf.keras.layers.MaxPool2D(pool_size=2, strides=2))"
      ],
      "execution_count": 20,
      "outputs": []
    },
    {
      "cell_type": "markdown",
      "metadata": {
        "id": "qjB3Rlm3_N0q",
        "colab_type": "text"
      },
      "source": [
        "Adding a second convolutional layer"
      ]
    },
    {
      "cell_type": "code",
      "metadata": {
        "id": "ppcdGi1L_NfS",
        "colab_type": "code",
        "colab": {}
      },
      "source": [
        "cnn.add(tf.keras.layers.Conv2D(filters=32, kernel_size=3, activation='relu'))\n",
        "cnn.add(tf.keras.layers.MaxPool2D(pool_size=2, strides=2))"
      ],
      "execution_count": 21,
      "outputs": []
    },
    {
      "cell_type": "markdown",
      "metadata": {
        "id": "E-BO-HBn_bZo",
        "colab_type": "text"
      },
      "source": [
        "flattening"
      ]
    },
    {
      "cell_type": "code",
      "metadata": {
        "id": "C4mrPoxk_Yl_",
        "colab_type": "code",
        "colab": {}
      },
      "source": [
        "cnn.add(tf.keras.layers.Flatten())"
      ],
      "execution_count": 22,
      "outputs": []
    },
    {
      "cell_type": "markdown",
      "metadata": {
        "id": "g5JN1YrO_eHC",
        "colab_type": "text"
      },
      "source": [
        " Full Connection"
      ]
    },
    {
      "cell_type": "code",
      "metadata": {
        "id": "AGdJgVE6_c2V",
        "colab_type": "code",
        "colab": {}
      },
      "source": [
        "cnn.add(tf.keras.layers.Dense(units=128, activation='relu'))"
      ],
      "execution_count": 23,
      "outputs": []
    },
    {
      "cell_type": "markdown",
      "metadata": {
        "id": "ey75WPlV_uHP",
        "colab_type": "text"
      },
      "source": [
        "making the output layer"
      ]
    },
    {
      "cell_type": "code",
      "metadata": {
        "id": "Ko4MKQXb_qIp",
        "colab_type": "code",
        "colab": {}
      },
      "source": [
        "cnn.add(tf.keras.layers.Dense(units=1, activation='sigmoid'))"
      ],
      "execution_count": 24,
      "outputs": []
    },
    {
      "cell_type": "markdown",
      "metadata": {
        "id": "OFvwum8zABaV",
        "colab_type": "text"
      },
      "source": [
        "Compiling CNN"
      ]
    },
    {
      "cell_type": "code",
      "metadata": {
        "id": "2Ey3BSf8ADDX",
        "colab_type": "code",
        "colab": {}
      },
      "source": [
        "cnn.compile(optimizer = 'adam', loss = 'binary_crossentropy', metrics = ['accuracy'])"
      ],
      "execution_count": 25,
      "outputs": []
    },
    {
      "cell_type": "markdown",
      "metadata": {
        "id": "egE4aNmh_1di",
        "colab_type": "text"
      },
      "source": [
        "TRAINING THE CNN"
      ]
    },
    {
      "cell_type": "code",
      "metadata": {
        "id": "kOa-4S4e_071",
        "colab_type": "code",
        "colab": {
          "base_uri": "https://localhost:8080/",
          "height": 50
        },
        "outputId": "3be5619d-6341-4c04-ace9-05392aac9b7e"
      },
      "source": [
        "cnn.fit(x = training_set, validation_data = test_set, epochs = 25)"
      ],
      "execution_count": null,
      "outputs": [
        {
          "output_type": "stream",
          "text": [
            "Epoch 1/25\n",
            "128/251 [==============>...............] - ETA: 26:17 - loss: 0.6844 - accuracy: 0.5498"
          ],
          "name": "stdout"
        }
      ]
    },
    {
      "cell_type": "markdown",
      "metadata": {
        "id": "fG-pHN3pAZz3",
        "colab_type": "text"
      },
      "source": [
        "Making prediction on input image"
      ]
    },
    {
      "cell_type": "code",
      "metadata": {
        "id": "gM5v5Xx6ATet",
        "colab_type": "code",
        "colab": {}
      },
      "source": [
        "import numpy as np\n",
        "from keras.preprocessing import image\n",
        "test_image = image.load_img('/content/drive/My Drive/dataset/single_prediction', target_size = (64, 64))\n",
        "test_image = image.img_to_array(test_image)\n",
        "test_image = np.expand_dims(test_image, axis = 0)\n",
        "result = cnn.predict(test_image)\n",
        "training_set.class_indices\n",
        "if result[0][0] == 1:\n",
        "  prediction = 'dog'\n",
        "else:\n",
        "  prediction = 'cat'"
      ],
      "execution_count": null,
      "outputs": []
    }
  ]
}